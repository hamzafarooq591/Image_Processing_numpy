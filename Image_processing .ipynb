{
 "cells": [
  {
   "cell_type": "code",
   "execution_count": 23,
   "metadata": {},
   "outputs": [],
   "source": [
    "import numpy as np\n",
    "from PIL import Image \n",
    "import glob"
   ]
  },
  {
   "cell_type": "code",
   "execution_count": 24,
   "metadata": {},
   "outputs": [],
   "source": [
    "image_list =[]\n",
    "resized_image=[]"
   ]
  },
  {
   "cell_type": "code",
   "execution_count": 25,
   "metadata": {},
   "outputs": [
    {
     "name": "stdout",
     "output_type": "stream",
     "text": [
      "C:/Users/Hamza pc\\car.jpg\n",
      "C:/Users/Hamza pc\\car1.jpg\n",
      "C:/Users/Hamza pc\\car2.jpg\n",
      "C:/Users/Hamza pc\\car3.jpg\n",
      "C:/Users/Hamza pc\\car4.jpg\n",
      "C:/Users/Hamza pc\\car5.jpg\n",
      "C:/Users/Hamza pc\\car6.jpg\n",
      "C:/Users/Hamza pc\\car7.jpg\n",
      "C:/Users/Hamza pc\\chrome.jpg\n",
      "C:/Users/Hamza pc\\pic1.jpg\n",
      "C:/Users/Hamza pc\\pic10.jpg\n",
      "C:/Users/Hamza pc\\pic11.jpg\n",
      "C:/Users/Hamza pc\\pic12.jpg\n",
      "C:/Users/Hamza pc\\pic13.jpg\n",
      "C:/Users/Hamza pc\\pic14.jpg\n",
      "C:/Users/Hamza pc\\pic2.jpg\n",
      "C:/Users/Hamza pc\\pic3.jpg\n",
      "C:/Users/Hamza pc\\pic4.jpg\n",
      "C:/Users/Hamza pc\\pic5.jpg\n",
      "C:/Users/Hamza pc\\pic6.jpg\n",
      "C:/Users/Hamza pc\\pic7.jpg\n",
      "C:/Users/Hamza pc\\pic8.jpg\n",
      "C:/Users/Hamza pc\\pic9.jpg\n"
     ]
    }
   ],
   "source": [
    "for file_name in glob.glob('C:/Users/Hamza pc/*.jpg'):\n",
    "    print(file_name)\n",
    "    img=Image.open(file_name)\n",
    "    image_list.append(img)"
   ]
  },
  {
   "cell_type": "code",
   "execution_count": 26,
   "metadata": {},
   "outputs": [],
   "source": [
    "for image in image_list:\n",
    "    image=image.resize((200,200))\n",
    "    resized_image.append(image)"
   ]
  },
  {
   "cell_type": "code",
   "execution_count": 27,
   "metadata": {},
   "outputs": [],
   "source": [
    "for (i,new) in enumerate(resized_image):\n",
    "    new.save('{}{}{}'.format('C:/Users/Hamza pc/Desktop/Images/Re_images',i+1,'.jpg'))"
   ]
  },
  {
   "cell_type": "code",
   "execution_count": 28,
   "metadata": {},
   "outputs": [],
   "source": [
    "for img1 in resized_image: \n",
    "    new_image=np.array(img1)"
   ]
  },
  {
   "cell_type": "code",
   "execution_count": 29,
   "metadata": {},
   "outputs": [
    {
     "name": "stdout",
     "output_type": "stream",
     "text": [
      "(200, 200, 3)\n",
      "120000\n",
      "[[[251 255 255]\n",
      "  [251 255 255]]\n",
      "\n",
      " [[251 255 255]\n",
      "  [251 255 255]]\n",
      "\n",
      " [[251 255 255]\n",
      "  [251 255 255]]\n",
      "\n",
      " ...\n",
      "\n",
      " [[  6  24  36]\n",
      "  [  6  24  36]]\n",
      "\n",
      " [[  6  24  36]\n",
      "  [  6  24  36]]\n",
      "\n",
      " [[  6  24  36]\n",
      "  [  6  24  36]]]\n"
     ]
    }
   ],
   "source": [
    "print(new_image.shape)\n",
    "print(new_image.size)\n",
    "print(new_image[:,:2])"
   ]
  },
  {
   "cell_type": "code",
   "execution_count": null,
   "metadata": {},
   "outputs": [],
   "source": []
  }
 ],
 "metadata": {
  "kernelspec": {
   "display_name": "Python 3",
   "language": "python",
   "name": "python3"
  },
  "language_info": {
   "codemirror_mode": {
    "name": "ipython",
    "version": 3
   },
   "file_extension": ".py",
   "mimetype": "text/x-python",
   "name": "python",
   "nbconvert_exporter": "python",
   "pygments_lexer": "ipython3",
   "version": "3.7.3"
  }
 },
 "nbformat": 4,
 "nbformat_minor": 2
}
